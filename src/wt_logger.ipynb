{
 "cells": [
  {
   "cell_type": "code",
   "execution_count": 0,
   "metadata": {
    "application/vnd.databricks.v1+cell": {
     "cellMetadata": {
      "byteLimit": 2048000,
      "rowLimit": 10000
     },
     "inputWidgets": {},
     "nuid": "2061941a-c27f-4c88-b151-39a6e4a0b337",
     "showTitle": false,
     "tableResultSettingsMap": {},
     "title": ""
    }
   },
   "outputs": [],
   "source": [
    "import logging\n",
    "import sys\n",
    "from typing import Optional\n",
    "\n",
    "class LoggerUtility:\n",
    "    \"\"\"Centralized Logger Utility\"\"\"\n",
    "\n",
    "    LOG_LEVEL = logging.INFO\n",
    "    LOG_FORMAT = \"%(asctime)s - %(levelname)s - %(message)s\"\n",
    "    DATE_FORMAT = \"%Y-%m-%d %H:%M:%S\"\n",
    "\n",
    "    @staticmethod\n",
    "    def setup_logging(log_level: Optional[int] = None) -> logging.Logger:\n",
    "        \"\"\"Setup and return a logger that prints to stdout so it works across `%run` notebooks\"\"\"\n",
    "\n",
    "        logger = logging.getLogger(__name__)\n",
    "        logger.setLevel(log_level or LoggerUtility.LOG_LEVEL)\n",
    "\n",
    "        # Ensure logs are printed to stdout, so they show in notebooks\n",
    "        if not logger.hasHandlers():\n",
    "            stream_handler = logging.StreamHandler(sys.stdout)\n",
    "            formatter = logging.Formatter(LoggerUtility.LOG_FORMAT, datefmt=LoggerUtility.DATE_FORMAT)\n",
    "            stream_handler.setFormatter(formatter)\n",
    "            logger.addHandler(stream_handler)\n",
    "\n",
    "        return logger\n"
   ]
  }
 ],
 "metadata": {
  "application/vnd.databricks.v1+notebook": {
   "computePreferences": null,
   "dashboards": [],
   "environmentMetadata": {
    "base_environment": "",
    "client": "1"
   },
   "language": "python",
   "notebookMetadata": {
    "pythonIndentUnit": 4
   },
   "notebookName": "wt_logger",
   "widgets": {}
  }
 },
 "nbformat": 4,
 "nbformat_minor": 0
}
