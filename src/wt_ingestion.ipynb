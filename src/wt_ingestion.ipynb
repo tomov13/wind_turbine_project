{
 "cells": [
  {
   "cell_type": "code",
   "execution_count": 0,
   "metadata": {
    "application/vnd.databricks.v1+cell": {
     "cellMetadata": {
      "byteLimit": 2048000,
      "rowLimit": 10000
     },
     "inputWidgets": {},
     "nuid": "0e6106d8-977d-4cbf-8c1c-be48402b5cd6",
     "showTitle": false,
     "tableResultSettingsMap": {},
     "title": ""
    }
   },
   "outputs": [],
   "source": [
    "%run \"/Users/ovidiumtoma@gmail.com/wind_turbine_project/src/logger\""
   ]
  },
  {
   "cell_type": "code",
   "execution_count": 0,
   "metadata": {
    "application/vnd.databricks.v1+cell": {
     "cellMetadata": {
      "byteLimit": 2048000,
      "rowLimit": 10000
     },
     "inputWidgets": {},
     "nuid": "531825a7-5323-4341-a9d6-a5b5114c9960",
     "showTitle": false,
     "tableResultSettingsMap": {},
     "title": ""
    }
   },
   "outputs": [],
   "source": [
    "import os\n",
    "\n",
    "logger = LoggerUtility.setup_logging()\n",
    "\n",
    "class RawDataIngestor:\n",
    "    def __init__(self, spark):\n",
    "        self.spark = spark\n",
    "        self.logger = LoggerUtility.setup_logging()\n",
    "\n",
    "        # Performance optimization: Adjust based on data size.\n",
    "        self.spark.conf.set(\"spark.sql.shuffle.partitions\", \"4\")\n",
    "\n",
    "        partition_count = self.spark.conf.get(\"spark.sql.shuffle.partitions\")\n",
    "        self.logger.info(f\"RawDataIngestor initialized with shuffle partitions set to {partition_count}.\")\n",
    "\n",
    "    def read_all_csvs(self, directory_path: str):\n",
    "        \"\"\" Read all CSVs in one batch \"\"\"\n",
    "        self.logger.info(f\"Attempting to read all CSV files from: {directory_path}\")\n",
    "\n",
    "        try:\n",
    "            df = (self.spark.read.format(\"csv\")\n",
    "                    .option(\"header\", \"true\")\n",
    "                    .option(\"inferSchema\", \"true\")\n",
    "                    \n",
    "                    # Took the decision to handle all files together in order to improve performance.\n",
    "                    # IDs are unique among groups, so there should be no issue.\n",
    "                    .load(f\"{directory_path}/*.csv\"))\n",
    "            \n",
    "            self.logger.info(f\"Successfully read CSV files from {directory_path}. Record count: {df.count()}\")\n",
    "            return df\n",
    "\n",
    "        except Exception as e:\n",
    "            self.logger.error(f\"Error reading CSV files from {directory_path}: {str(e)}\", exc_info=True)\n",
    "            raise\n",
    "\n",
    "    def write_bronze(self, df, table_name: str):\n",
    "        \"\"\" Writes to Delta format for speed optimization \"\"\"\n",
    "        self.logger.info(f\"Writing data to Delta table: bronze_data.{table_name}\")\n",
    "\n",
    "        try:\n",
    "            self.spark.sql(\"CREATE SCHEMA IF NOT EXISTS bronze_data\")\n",
    "            (df.write\n",
    "               .mode(\"append\")\n",
    "               .format(\"delta\")\n",
    "               .saveAsTable(f\"bronze_data.{table_name}\"))\n",
    "\n",
    "            self.logger.info(f\"Successfully written data to bronze_data.{table_name}\")\n",
    "\n",
    "        except Exception as e:\n",
    "            self.logger.error(f\"Error writing data to bronze_data.{table_name}: {str(e)}\", exc_info=True)\n",
    "            raise\n",
    "\n",
    "    def process_all_files(self, directory_path: str):\n",
    "        \"\"\" Reads all CSVs at once, then writes them as one table \"\"\"\n",
    "        self.logger.info(f\"Starting data ingestion process for directory: {directory_path}\")\n",
    "\n",
    "        try:\n",
    "            df = self.read_all_csvs(directory_path)\n",
    "            table_name = \"wind_turbine_bronze\"\n",
    "            self.write_bronze(df, table_name)\n",
    "\n",
    "            self.logger.info(f\"Successfully processed and stored data in bronze_data.{table_name}\")\n",
    "\n",
    "        except Exception as e:\n",
    "            self.logger.error(f\"Data ingestion process failed: {str(e)}\", exc_info=True)\n",
    "            raise\n"
   ]
  }
 ],
 "metadata": {
  "application/vnd.databricks.v1+notebook": {
   "computePreferences": null,
   "dashboards": [],
   "environmentMetadata": {
    "base_environment": "",
    "client": "1"
   },
   "language": "python",
   "notebookMetadata": {
    "pythonIndentUnit": 4
   },
   "notebookName": "wt_ingestion",
   "widgets": {}
  }
 },
 "nbformat": 4,
 "nbformat_minor": 0
}
