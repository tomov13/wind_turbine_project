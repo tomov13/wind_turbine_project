{
 "cells": [
  {
   "cell_type": "code",
   "execution_count": 0,
   "metadata": {
    "application/vnd.databricks.v1+cell": {
     "cellMetadata": {
      "byteLimit": 2048000,
      "rowLimit": 10000
     },
     "inputWidgets": {},
     "nuid": "56b3eea8-9fdc-4dfe-a709-a7b5232b7dc8",
     "showTitle": false,
     "tableResultSettingsMap": {},
     "title": ""
    }
   },
   "outputs": [],
   "source": [
    "%run \"/Users/ovidiumtoma@gmail.com/wind_turbine_project/src/wt_logger\""
   ]
  },
  {
   "cell_type": "code",
   "execution_count": 0,
   "metadata": {
    "application/vnd.databricks.v1+cell": {
     "cellMetadata": {
      "byteLimit": 2048000,
      "rowLimit": 10000
     },
     "inputWidgets": {},
     "nuid": "297cb448-45b3-4471-b69f-3f54de40fd1e",
     "showTitle": false,
     "tableResultSettingsMap": {},
     "title": ""
    }
   },
   "outputs": [],
   "source": [
    "from pyspark.sql import DataFrame\n",
    "from pyspark.sql.functions import col\n",
    "\n",
    "class DataCleaner:\n",
    "    def __init__(self, spark):\n",
    "        self.spark = spark\n",
    "        self.logger = LoggerUtility.setup_logging()\n",
    "\n",
    "        self.logger.info(\"DataCleaner initialized.\")\n",
    "\n",
    "    def remove_missing_values(self, df: DataFrame) -> DataFrame:\n",
    "        \"\"\" Removes rows with null values in critical columns. \"\"\"\n",
    "        self.logger.info(f\"Rows before starting cleanup process: {df.count()}\")\n",
    "        self.logger.info(\"Removing missing values...\")\n",
    "        df_cleaned = df.dropna(subset=[\"turbine_id\", \"timestamp\", \"power_output\"])\n",
    "        self.logger.info(f\"Rows after removing missing values: {df_cleaned.count()}\")\n",
    "        return df_cleaned\n",
    "\n",
    "    def handle_outliers(self, df: DataFrame) -> DataFrame:\n",
    "        \"\"\"\n",
    "        Handles outliers by filtering values within a reasonable range.\n",
    "        Example: Removing power_output < 0 or > 500.\n",
    "        \"\"\"\n",
    "        self.logger.info(\"Handling outliers...\")\n",
    "        df_filtered = df.filter((col(\"power_output\") >= 0) & (col(\"power_output\") <= 500))\n",
    "        self.logger.info(f\"Rows after outlier removal: {df_filtered.count()}\")\n",
    "        return df_filtered\n",
    "\n",
    "\n",
    "    def save_silver_table(self, df: DataFrame, table_name: str):\n",
    "        \"\"\" Saves cleaned data as a Delta table in the `silver_data` schema. \"\"\"\n",
    "        self.logger.info(f\"Saving cleaned data to silver_data.{table_name}...\")\n",
    "\n",
    "        try:\n",
    "            # Ensure the schema exists\n",
    "            self.spark.sql(\"CREATE SCHEMA IF NOT EXISTS silver_data\")\n",
    "\n",
    "            # Save the cleaned DataFrame as a Delta table\n",
    "            df.write.mode(\"append\").format(\"delta\").saveAsTable(f\"silver_data.{table_name}\")\n",
    "\n",
    "            self.logger.info(f\"Successfully saved cleaned data to silver_data.{table_name}\")\n",
    "\n",
    "        except Exception as e:\n",
    "            self.logger.error(f\"Error saving cleaned data to silver_data.{table_name}: {str(e)}\", exc_info=True)\n",
    "            raise\n",
    "\n",
    "    def clean_data(self, df: DataFrame, table_name: str):\n",
    "        \"\"\" Full cleaning pipeline + save to Silver table. \"\"\"\n",
    "        self.logger.info(\"Starting full cleaning process...\")\n",
    "        df_no_missing = self.remove_missing_values(df)\n",
    "        df_cleaned = self.handle_outliers(df_no_missing)\n",
    "\n",
    "        self.save_silver_table(df_cleaned, table_name)\n",
    "\n",
    "        self.logger.info(\"Cleaning process complete.\")\n",
    "        return df_cleaned\n"
   ]
  }
 ],
 "metadata": {
  "application/vnd.databricks.v1+notebook": {
   "computePreferences": null,
   "dashboards": [],
   "environmentMetadata": {
    "base_environment": "",
    "client": "1"
   },
   "language": "python",
   "notebookMetadata": {
    "pythonIndentUnit": 4
   },
   "notebookName": "wt_cleaning",
   "widgets": {}
  }
 },
 "nbformat": 4,
 "nbformat_minor": 0
}
