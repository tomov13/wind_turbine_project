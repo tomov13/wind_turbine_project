{
 "cells": [
  {
   "cell_type": "code",
   "execution_count": 0,
   "metadata": {
    "application/vnd.databricks.v1+cell": {
     "cellMetadata": {
      "byteLimit": 2048000,
      "rowLimit": 10000
     },
     "inputWidgets": {},
     "nuid": "10324cca-b731-4bb5-94f8-761403778571",
     "showTitle": false,
     "tableResultSettingsMap": {},
     "title": ""
    }
   },
   "outputs": [],
   "source": [
    "!pip install pytest"
   ]
  },
  {
   "cell_type": "code",
   "execution_count": 0,
   "metadata": {
    "application/vnd.databricks.v1+cell": {
     "cellMetadata": {
      "byteLimit": 2048000,
      "rowLimit": 10000
     },
     "inputWidgets": {},
     "nuid": "982b62d8-807f-4aba-823d-e550c568d5b0",
     "showTitle": false,
     "tableResultSettingsMap": {},
     "title": ""
    }
   },
   "outputs": [],
   "source": [
    "dbutils.library.restartPython()"
   ]
  },
  {
   "cell_type": "code",
   "execution_count": 0,
   "metadata": {
    "application/vnd.databricks.v1+cell": {
     "cellMetadata": {
      "byteLimit": 2048000,
      "rowLimit": 10000
     },
     "inputWidgets": {},
     "nuid": "d48c62e3-dd86-4da2-ae55-a05f98e64ad7",
     "showTitle": false,
     "tableResultSettingsMap": {},
     "title": ""
    }
   },
   "outputs": [],
   "source": [
    "import os\n",
    "import sys\n",
    "import pytest\n",
    "\n",
    "# Dynamically determine the project root (ensures portability)\n",
    "project_root = os.path.dirname(os.getcwd())\n",
    "tests_path = os.path.join(project_root, \"tests\")\n",
    "\n",
    "print(\"Detected Project Root:\", project_root)\n",
    "print(\"Contents of Project Root:\", os.listdir(project_root))\n",
    "\n",
    "# Ensure `src` and `tests` directories are in the Python path\n",
    "sys.path.insert(0, project_root)\n",
    "sys.path.insert(0, tests_path)\n",
    "\n",
    "# Verify `tests/` exists\n",
    "if not os.path.exists(tests_path):\n",
    "    print(f\"ERROR: tests/ directory not found at {tests_path}\")\n",
    "    print(\"Available directories:\", os.listdir(project_root))\n",
    "else:\n",
    "    print(f\"Found tests/ at {tests_path}\")\n",
    "\n",
    "# Disable bytecode compilation (prevents `__pycache__`)\n",
    "sys.dont_write_bytecode = True\n",
    "\n",
    "# Prevent `pytest` from using `__pycache__`\n",
    "os.environ[\"PYTHONDONTWRITEBYTECODE\"] = \"1\"\n",
    "\n",
    "# Run `pytest` without assertion rewriting (avoids cache issues)\n",
    "pytest.main([\"-v\", \"--assert=plain\", tests_path])\n"
   ]
  }
 ],
 "metadata": {
  "application/vnd.databricks.v1+notebook": {
   "computePreferences": null,
   "dashboards": [],
   "environmentMetadata": {
    "base_environment": "",
    "environment_version": "2"
   },
   "language": "python",
   "notebookMetadata": {
    "mostRecentlyExecutedCommandWithImplicitDF": {
     "commandId": 6736779622349348,
     "dataframes": [
      "_sqldf"
     ]
    },
    "pythonIndentUnit": 4
   },
   "notebookName": "running_tests",
   "widgets": {}
  },
  "language_info": {
   "name": "python"
  }
 },
 "nbformat": 4,
 "nbformat_minor": 0
}
