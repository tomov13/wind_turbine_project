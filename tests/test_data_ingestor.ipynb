{
 "cells": [
  {
   "cell_type": "code",
   "execution_count": 0,
   "metadata": {
    "application/vnd.databricks.v1+cell": {
     "cellMetadata": {
      "byteLimit": 2048000,
      "rowLimit": 10000
     },
     "inputWidgets": {},
     "nuid": "9aa61320-25b2-4833-89d0-3e59a6d2c360",
     "showTitle": false,
     "tableResultSettingsMap": {},
     "title": ""
    }
   },
   "outputs": [],
   "source": [
    "%run \"/Users/ovidiumtoma@gmail.com/wind_turbine_project/src/wt_ingestion\""
   ]
  },
  {
   "cell_type": "code",
   "execution_count": 0,
   "metadata": {
    "application/vnd.databricks.v1+cell": {
     "cellMetadata": {
      "byteLimit": 2048000,
      "rowLimit": 10000
     },
     "inputWidgets": {},
     "nuid": "25f23cc0-c7fd-4678-93d7-21b627660246",
     "showTitle": false,
     "tableResultSettingsMap": {},
     "title": ""
    }
   },
   "outputs": [],
   "source": [
    "import pytest\n",
    "from pyspark.sql import SparkSession\n",
    "from pyspark.sql.functions import col, regexp_extract, lit\n",
    "\n",
    "@pytest.fixture(scope=\"session\")\n",
    "def spark():\n",
    "    spark = SparkSession.builder \\\n",
    "        .master(\"local[*]\") \\\n",
    "        .appName(\"TestRawDataIngestor\") \\\n",
    "        .getOrCreate()\n",
    "    yield spark\n",
    "    spark.stop()\n",
    "\n",
    "def test_extract_turbine_id_from_metadata(spark):\n",
    "    # Simulate a DataFrame with file metadata (_metadata.file_path)\n",
    "    data = [(\"dbfs:/FileStore/tables/Location2.csv\",)]\n",
    "    schema = [\"_metadata.file_path\"]\n",
    "    df = spark.createDataFrame(data, schema)\n",
    "    \n",
    "    # Mimic the extraction logic from load_new_turbine_data\n",
    "    df_extracted = df.withColumn(\n",
    "        \"extracted_turbine_id\",\n",
    "        regexp_extract(col(\"_metadata.file_path\"), \"(?i)Location(\\\\d+)\", 1)\n",
    "    )\n",
    "    df_extracted = df_extracted.withColumn(\n",
    "        \"turbine_id\",\n",
    "        col(\"extracted_turbine_id\").cast(\"int\") + lit(0)  # no offset for test\n",
    "    ).drop(\"extracted_turbine_id\")\n",
    "    \n",
    "    result = df_extracted.select(\"turbine_id\").collect()[0][\"turbine_id\"]\n",
    "    assert result == 2\n"
   ]
  }
 ],
 "metadata": {
  "application/vnd.databricks.v1+notebook": {
   "computePreferences": null,
   "dashboards": [],
   "environmentMetadata": {
    "base_environment": "",
    "client": "1"
   },
   "language": "python",
   "notebookMetadata": {
    "mostRecentlyExecutedCommandWithImplicitDF": {
     "commandId": 4293034451682054,
     "dataframes": [
      "_sqldf"
     ]
    },
    "pythonIndentUnit": 4
   },
   "notebookName": "test_data_ingestor",
   "widgets": {}
  }
 },
 "nbformat": 4,
 "nbformat_minor": 0
}
