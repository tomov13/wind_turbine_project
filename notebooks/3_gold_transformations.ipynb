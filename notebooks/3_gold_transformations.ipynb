{
 "cells": [
  {
   "cell_type": "code",
   "execution_count": 0,
   "metadata": {
    "application/vnd.databricks.v1+cell": {
     "cellMetadata": {
      "byteLimit": 2048000,
      "rowLimit": 10000
     },
     "inputWidgets": {},
     "nuid": "f2219e68-be22-4d0f-b286-9ceb60802b46",
     "showTitle": false,
     "tableResultSettingsMap": {},
     "title": ""
    }
   },
   "outputs": [],
   "source": [
    "import sys\n",
    "import os\n",
    "\n",
    "# Dynamically set up the project root & src path\n",
    "project_root = os.getcwd()\n",
    "src_path = os.path.join(project_root, \"src\")\n",
    "\n",
    "if src_path not in sys.path:\n",
    "    sys.path.insert(0, src_path)\n",
    "\n",
    "# Import the DataTransformer class\n",
    "from src.wt_transformations import DataTransformer\n",
    "\n",
    "# Read the Silver table\n",
    "df_silver = spark.table(\"hive_metastore.silver_data.wind_turbine_silver\")\n",
    "\n",
    "# Initialize DataTransformer\n",
    "transformer = DataTransformer(spark)\n",
    "\n",
    "# Apply transformations:\n",
    "#    - compute_expected_power\n",
    "#    - detect_zscore_anomalies\n",
    "#    - detect_record_anomalies (Isolation Forest)\n",
    "#    - combine_anomalies\n",
    "df_transformed = (\n",
    "    df_silver\n",
    "    .transform(transformer.compute_expected_power)\n",
    "    .transform(transformer.detect_zscore_anomalies)\n",
    "    .transform(transformer.detect_record_anomalies)\n",
    "    .transform(transformer.combine_anomalies)\n",
    ")\n",
    "\n",
    "# Detect turbine-level anomalies and save to a \"gold_turbine_stats\" table\n",
    "df_turbine_anomalies = transformer.detect_turbine_anomalies(df_transformed)\n",
    "transformer.save_turbine_analysis(df_turbine_anomalies, \"gold_turbine_stats\")\n",
    "\n",
    "# Apply smart filtering (removing FAULTY_SENSOR turbines) and save to \"gold_turbine_analysis\"\n",
    "df_filtered = transformer.apply_smart_filtering(df_transformed, df_turbine_anomalies)\n",
    "transformer.save_turbine_analysis(df_filtered, \"gold_turbine_analysis\")\n",
    "\n",
    "# Calculate summary statistics (24-hour window) and save to \"gold_turbine_summary\"\n",
    "df_summary = transformer.calculate_summary_statistics(df_filtered)\n",
    "transformer.save_summary_table(df_summary, \"gold_turbine_summary\")\n",
    "\n",
    "print(\"Data transformation & anomaly detection pipeline completed successfully!\")\n"
   ]
  }
 ],
 "metadata": {
  "application/vnd.databricks.v1+notebook": {
   "computePreferences": null,
   "dashboards": [],
   "environmentMetadata": {
    "base_environment": "",
    "environment_version": "1"
   },
   "language": "python",
   "notebookMetadata": {
    "mostRecentlyExecutedCommandWithImplicitDF": {
     "commandId": 6736779622349328,
     "dataframes": [
      "_sqldf"
     ]
    },
    "pythonIndentUnit": 4
   },
   "notebookName": "3_gold_transformations",
   "widgets": {}
  },
  "language_info": {
   "name": "python"
  }
 },
 "nbformat": 4,
 "nbformat_minor": 0
}
