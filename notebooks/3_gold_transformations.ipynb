{
 "cells": [
  {
   "cell_type": "code",
   "execution_count": 0,
   "metadata": {
    "application/vnd.databricks.v1+cell": {
     "cellMetadata": {
      "byteLimit": 2048000,
      "rowLimit": 10000
     },
     "inputWidgets": {},
     "nuid": "1b1ebee7-d0d4-4e3c-bef3-9e824cf426dc",
     "showTitle": false,
     "tableResultSettingsMap": {},
     "title": ""
    }
   },
   "outputs": [],
   "source": [
    "%run \"/Users/ovidiumtoma@gmail.com/wind_turbine_project/src/wt_transformations\""
   ]
  },
  {
   "cell_type": "code",
   "execution_count": 0,
   "metadata": {
    "application/vnd.databricks.v1+cell": {
     "cellMetadata": {
      "byteLimit": 2048000,
      "rowLimit": 10000
     },
     "inputWidgets": {},
     "nuid": "c8f5800d-d10a-4a3b-b2e0-377cf40b1afc",
     "showTitle": false,
     "tableResultSettingsMap": {},
     "title": ""
    }
   },
   "outputs": [
    {
     "output_type": "stream",
     "name": "stdout",
     "output_type": "stream",
     "text": [
      "2025-02-21 22:48:28 - INFO - DataTransformer initialized.\n"
     ]
    },
    {
     "output_type": "stream",
     "name": "stderr",
     "output_type": "stream",
     "text": [
      "INFO:__main__:DataTransformer initialized.\n"
     ]
    },
    {
     "output_type": "stream",
     "name": "stdout",
     "output_type": "stream",
     "text": [
      "2025-02-21 22:48:29 - INFO - Computing expected power output...\n"
     ]
    },
    {
     "output_type": "stream",
     "name": "stderr",
     "output_type": "stream",
     "text": [
      "INFO:__main__:Computing expected power output...\n"
     ]
    },
    {
     "output_type": "stream",
     "name": "stdout",
     "output_type": "stream",
     "text": [
      "2025-02-21 22:48:30 - INFO - Expected power computation complete.\n"
     ]
    },
    {
     "output_type": "stream",
     "name": "stderr",
     "output_type": "stream",
     "text": [
      "INFO:__main__:Expected power computation complete.\n"
     ]
    },
    {
     "output_type": "stream",
     "name": "stdout",
     "output_type": "stream",
     "text": [
      "2025-02-21 22:48:30 - INFO - Detecting anomalies using Isolation Forest...\n"
     ]
    },
    {
     "output_type": "stream",
     "name": "stderr",
     "output_type": "stream",
     "text": [
      "INFO:__main__:Detecting anomalies using Isolation Forest...\n"
     ]
    },
    {
     "output_type": "stream",
     "name": "stdout",
     "output_type": "stream",
     "text": [
      "2025-02-21 22:48:41 - INFO - Anomaly detection complete.\n"
     ]
    },
    {
     "output_type": "stream",
     "name": "stderr",
     "output_type": "stream",
     "text": [
      "INFO:__main__:Anomaly detection complete.\n"
     ]
    },
    {
     "output_type": "stream",
     "name": "stdout",
     "output_type": "stream",
     "text": [
      "2025-02-21 22:48:41 - INFO - Detecting turbines with high anomaly rates...\n"
     ]
    },
    {
     "output_type": "stream",
     "name": "stderr",
     "output_type": "stream",
     "text": [
      "INFO:__main__:Detecting turbines with high anomaly rates...\n"
     ]
    },
    {
     "output_type": "stream",
     "name": "stdout",
     "output_type": "stream",
     "text": [
      "2025-02-21 22:48:42 - INFO - Turbine anomaly detection complete.\n"
     ]
    },
    {
     "output_type": "stream",
     "name": "stderr",
     "output_type": "stream",
     "text": [
      "INFO:__main__:Turbine anomaly detection complete.\n"
     ]
    },
    {
     "output_type": "stream",
     "name": "stdout",
     "output_type": "stream",
     "text": [
      "2025-02-21 22:48:42 - INFO - Saving results to gold_data.gold_turbine_anomalies\n"
     ]
    },
    {
     "output_type": "stream",
     "name": "stderr",
     "output_type": "stream",
     "text": [
      "INFO:__main__:Saving results to gold_data.gold_turbine_anomalies\n"
     ]
    },
    {
     "output_type": "stream",
     "name": "stdout",
     "output_type": "stream",
     "text": [
      "2025-02-21 22:48:48 - INFO - Successfully saved to gold_data.gold_turbine_anomalies\n"
     ]
    },
    {
     "output_type": "stream",
     "name": "stderr",
     "output_type": "stream",
     "text": [
      "INFO:__main__:Successfully saved to gold_data.gold_turbine_anomalies\n"
     ]
    },
    {
     "output_type": "stream",
     "name": "stdout",
     "output_type": "stream",
     "text": [
      "2025-02-21 22:48:48 - INFO - Applying smart filtering...\n"
     ]
    },
    {
     "output_type": "stream",
     "name": "stderr",
     "output_type": "stream",
     "text": [
      "INFO:__main__:Applying smart filtering...\n"
     ]
    },
    {
     "output_type": "stream",
     "name": "stdout",
     "output_type": "stream",
     "text": [
      "2025-02-21 22:48:49 - INFO - Smart filtering complete.\n"
     ]
    },
    {
     "output_type": "stream",
     "name": "stderr",
     "output_type": "stream",
     "text": [
      "INFO:__main__:Smart filtering complete.\n"
     ]
    },
    {
     "output_type": "stream",
     "name": "stdout",
     "output_type": "stream",
     "text": [
      "2025-02-21 22:48:49 - INFO - Saving results to gold_data.gold_turbine_analysis\n"
     ]
    },
    {
     "output_type": "stream",
     "name": "stderr",
     "output_type": "stream",
     "text": [
      "INFO:__main__:Saving results to gold_data.gold_turbine_analysis\n"
     ]
    },
    {
     "output_type": "stream",
     "name": "stdout",
     "output_type": "stream",
     "text": [
      "2025-02-21 22:49:01 - INFO - Successfully saved to gold_data.gold_turbine_analysis\n"
     ]
    },
    {
     "output_type": "stream",
     "name": "stderr",
     "output_type": "stream",
     "text": [
      "INFO:__main__:Successfully saved to gold_data.gold_turbine_analysis\n"
     ]
    },
    {
     "output_type": "stream",
     "name": "stdout",
     "output_type": "stream",
     "text": [
      "Data transformation completed successfully!\n"
     ]
    }
   ],
   "source": [
    "# Initialize Transformer\n",
    "transformer = DataTransformer(spark)\n",
    "\n",
    "# Load Silver Table\n",
    "df_silver = spark.read.table(\"silver_data.wind_turbine_silver\")\n",
    "\n",
    "# Compute Expected Power\n",
    "df_expected = transformer.compute_expected_power(df_silver)\n",
    "\n",
    "# Detect Record-Level Anomalies\n",
    "df_anomalies = transformer.detect_record_anomalies(df_expected)\n",
    "\n",
    "# Detect Turbine-Level Sensor Failures\n",
    "df_turbine_anomalies = transformer.detect_turbine_anomalies(df_anomalies)\n",
    "transformer.save_gold_table(df_turbine_anomalies, \"gold_turbine_anomalies\")\n",
    "\n",
    "# Apply Smart Filtering\n",
    "df_cleaned = transformer.apply_smart_filtering(df_anomalies, df_turbine_anomalies)\n",
    "\n",
    "# Save Final Gold Table\n",
    "transformer.save_gold_table(df_cleaned, \"gold_turbine_analysis\")\n",
    "\n",
    "print(\"Data transformation completed successfully!\")\n"
   ]
  }
 ],
 "metadata": {
  "application/vnd.databricks.v1+notebook": {
   "computePreferences": null,
   "dashboards": [],
   "environmentMetadata": {
    "base_environment": "",
    "client": "1"
   },
   "language": "python",
   "notebookMetadata": {
    "pythonIndentUnit": 4
   },
   "notebookName": "3_gold_transformations",
   "widgets": {}
  }
 },
 "nbformat": 4,
 "nbformat_minor": 0
}
