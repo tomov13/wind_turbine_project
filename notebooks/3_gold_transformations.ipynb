{
 "cells": [
  {
   "cell_type": "code",
   "execution_count": 0,
   "metadata": {
    "application/vnd.databricks.v1+cell": {
     "cellMetadata": {
      "byteLimit": 2048000,
      "rowLimit": 10000
     },
     "inputWidgets": {},
     "nuid": "1b1ebee7-d0d4-4e3c-bef3-9e824cf426dc",
     "showTitle": false,
     "tableResultSettingsMap": {},
     "title": ""
    }
   },
   "outputs": [],
   "source": [
    "%run \"/Users/ovidiumtoma@gmail.com/wind_turbine_project/src/wt_transformations\""
   ]
  },
  {
   "cell_type": "code",
   "execution_count": 0,
   "metadata": {
    "application/vnd.databricks.v1+cell": {
     "cellMetadata": {
      "byteLimit": 2048000,
      "rowLimit": 10000
     },
     "inputWidgets": {},
     "nuid": "b9497dfd-4bff-4cb9-b163-5af957021267",
     "showTitle": false,
     "tableResultSettingsMap": {},
     "title": ""
    }
   },
   "outputs": [
    {
     "output_type": "stream",
     "name": "stdout",
     "output_type": "stream",
     "text": [
      "2025-02-21 01:23:30 - INFO - DataTransformer initialized.\n2025-02-21 01:23:30 - INFO - Starting transformation process...\n2025-02-21 01:23:30 - INFO - Summarizing power output...\n2025-02-21 01:23:31 - INFO - Summary statistics calculated. Row count: 15\n2025-02-21 01:23:31 - INFO - Identifying anomalies...\n2025-02-21 01:23:34 - INFO - Anomaly detection complete. Anomalies found: 0\n2025-02-21 01:23:34 - INFO - Saving transformed data to gold_data.turbine_summary...\n2025-02-21 01:23:39 - INFO - Successfully saved transformed data to gold_data.turbine_summary\n2025-02-21 01:23:39 - INFO - Saving transformed data to gold_data.turbine_anomalies...\n2025-02-21 01:23:44 - INFO - Successfully saved transformed data to gold_data.turbine_anomalies\n2025-02-21 01:23:44 - INFO - Transformation process complete.\n+----------+---------+---------+------------------+------------------+\n|turbine_id|min_power|max_power|         avg_power|      stddev_power|\n+----------+---------+---------+------------------+------------------+\n|        12|      1.5|      4.5|3.0512096774193553|0.8607865464413312|\n|        13|      1.5|      4.5|3.0313172043010725|0.8770252259733801|\n|        15|      1.5|      4.5|3.0364247311827937|0.8534930716664181|\n|        11|      1.5|      4.5| 2.959139784946235| 0.868237901585146|\n|        14|      1.5|      4.5| 3.017741935483872|0.8568924685700936|\n|         1|      1.5|      4.5| 3.016397849462364|0.8569506519952145|\n|         3|      1.5|      4.5|  2.97997311827957| 0.862341941473742|\n|         5|      1.5|      4.5| 3.016532258064516|0.8655917220150564|\n|         4|      1.5|      4.5|2.9463709677419327|0.8867326676953857|\n|         2|      1.5|      4.5|2.9836021505376293|0.8742293724250544|\n|         6|      1.5|      4.5|2.9838709677419377|0.8738188889715501|\n|         9|      1.5|      4.5| 3.002822580645162|  0.87397096572575|\n|         8|      1.5|      4.5|  2.98481182795699|0.8914586655185206|\n|         7|      1.5|      4.5| 3.012634408602147|0.8760899535264589|\n|        10|      1.5|      4.5|3.0060483870967762|0.8659926198086019|\n+----------+---------+---------+------------------+------------------+\n\n+----------+---------+---------+------------------+------------------+----------+\n|turbine_id|min_power|max_power|         avg_power|      stddev_power|is_anomaly|\n+----------+---------+---------+------------------+------------------+----------+\n|        12|      1.5|      4.5|3.0512096774193553|0.8607865464413312|     false|\n|        13|      1.5|      4.5|3.0313172043010725|0.8770252259733801|     false|\n|        15|      1.5|      4.5|3.0364247311827937|0.8534930716664181|     false|\n|        11|      1.5|      4.5| 2.959139784946235| 0.868237901585146|     false|\n|        14|      1.5|      4.5| 3.017741935483872|0.8568924685700936|     false|\n|         1|      1.5|      4.5| 3.016397849462364|0.8569506519952145|     false|\n|         3|      1.5|      4.5|  2.97997311827957| 0.862341941473742|     false|\n|         5|      1.5|      4.5| 3.016532258064516|0.8655917220150564|     false|\n|         4|      1.5|      4.5|2.9463709677419327|0.8867326676953857|     false|\n|         2|      1.5|      4.5|2.9836021505376293|0.8742293724250544|     false|\n|         6|      1.5|      4.5|2.9838709677419377|0.8738188889715501|     false|\n|         9|      1.5|      4.5| 3.002822580645162|  0.87397096572575|     false|\n|         8|      1.5|      4.5|  2.98481182795699|0.8914586655185206|     false|\n|         7|      1.5|      4.5| 3.012634408602147|0.8760899535264589|     false|\n|        10|      1.5|      4.5|3.0060483870967762|0.8659926198086019|     false|\n+----------+---------+---------+------------------+------------------+----------+\n\n"
     ]
    }
   ],
   "source": [
    "transformer = DataTransformer(spark)\n",
    "\n",
    "silver_table_name = \"wind_turbine_silver\"\n",
    "df_silver = spark.read.table(f\"silver_data.{silver_table_name}\")\n",
    "\n",
    "df_summary, df_anomalies = transformer.transform_and_save(df_silver)\n",
    "\n",
    "# Show results\n",
    "df_summary.show(15)\n",
    "df_anomalies.show(15)\n"
   ]
  }
 ],
 "metadata": {
  "application/vnd.databricks.v1+notebook": {
   "computePreferences": null,
   "dashboards": [],
   "environmentMetadata": {
    "base_environment": "",
    "client": "1"
   },
   "language": "python",
   "notebookMetadata": {
    "pythonIndentUnit": 4
   },
   "notebookName": "3_gold_transformations",
   "widgets": {}
  }
 },
 "nbformat": 4,
 "nbformat_minor": 0
}
