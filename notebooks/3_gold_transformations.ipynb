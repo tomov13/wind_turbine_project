{
 "cells": [
  {
   "cell_type": "code",
   "execution_count": 0,
   "metadata": {
    "application/vnd.databricks.v1+cell": {
     "cellMetadata": {
      "byteLimit": 2048000,
      "rowLimit": 10000
     },
     "inputWidgets": {},
     "nuid": "1b1ebee7-d0d4-4e3c-bef3-9e824cf426dc",
     "showTitle": false,
     "tableResultSettingsMap": {},
     "title": ""
    }
   },
   "outputs": [],
   "source": [
    "%run \"/Users/ovidiumtoma@gmail.com/wind_turbine_project/src/wt_transformations\""
   ]
  },
  {
   "cell_type": "code",
   "execution_count": 0,
   "metadata": {
    "application/vnd.databricks.v1+cell": {
     "cellMetadata": {
      "byteLimit": 2048000,
      "rowLimit": 10000
     },
     "inputWidgets": {},
     "nuid": "c8f5800d-d10a-4a3b-b2e0-377cf40b1afc",
     "showTitle": false,
     "tableResultSettingsMap": {},
     "title": ""
    }
   },
   "outputs": [],
   "source": [
    "# Initialize DataTransformer.\n",
    "data_transformer = DataTransformer(spark)\n",
    "\n",
    "# Load the Silver data.\n",
    "input_df = spark.table(\"silver_data.wind_turbine_silver\")\n",
    "\n",
    "# Apply the transformation pipeline.\n",
    "df = (input_df\n",
    "      .transform(data_transformer.compute_expected_power)\n",
    "      .transform(data_transformer.detect_zscore_anomalies)  # Standard deviation anomalies.\n",
    "      .transform(data_transformer.detect_record_anomalies)  # Isolation Forest anomalies.\n",
    "      .transform(data_transformer.combine_anomalies)        # Combine anomaly flags.\n",
    "     )\n",
    "\n",
    "# Detect turbine-level anomalies and save statistics.\n",
    "turbine_anomaly_df = data_transformer.detect_turbine_anomalies(df)\n",
    "data_transformer.save_turbine_analysis(turbine_anomaly_df, \"gold_turbine_stats\")\n",
    "\n",
    "# Apply smart filtering based on turbine status.\n",
    "df_filtered = data_transformer.apply_smart_filtering(df, turbine_anomaly_df)\n",
    "\n",
    "# Save the filtered turbine analysis to the Gold layer.\n",
    "data_transformer.save_turbine_analysis(df_filtered, \"gold_turbine_analysis\")\n",
    "\n",
    "# Calculate summary statistics.\n",
    "df_summary = data_transformer.calculate_summary_statistics(df_filtered)\n",
    "\n",
    "# Save summary statistics to the Gold layer.\n",
    "data_transformer.save_summary_table(df_summary, \"gold_turbine_summary\")\n",
    "\n",
    "print(\"Data processing pipeline completed successfully!\")\n"
   ]
  }
 ],
 "metadata": {
  "application/vnd.databricks.v1+notebook": {
   "computePreferences": null,
   "dashboards": [],
   "environmentMetadata": {
    "base_environment": "",
    "client": "1"
   },
   "language": "python",
   "notebookMetadata": {
    "pythonIndentUnit": 4
   },
   "notebookName": "3_gold_transformations",
   "widgets": {}
  },
  "language_info": {
   "name": "python"
  }
 },
 "nbformat": 4,
 "nbformat_minor": 0
}
