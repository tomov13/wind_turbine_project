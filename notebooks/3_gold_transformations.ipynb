{
 "cells": [
  {
   "cell_type": "code",
   "execution_count": 0,
   "metadata": {
    "application/vnd.databricks.v1+cell": {
     "cellMetadata": {
      "byteLimit": 2048000,
      "rowLimit": 10000
     },
     "inputWidgets": {},
     "nuid": "1b1ebee7-d0d4-4e3c-bef3-9e824cf426dc",
     "showTitle": false,
     "tableResultSettingsMap": {},
     "title": ""
    }
   },
   "outputs": [],
   "source": [
    "%run \"/Users/ovidiumtoma@gmail.com/wind_turbine_project/src/wt_transformations\""
   ]
  },
  {
   "cell_type": "code",
   "execution_count": 0,
   "metadata": {
    "application/vnd.databricks.v1+cell": {
     "cellMetadata": {
      "byteLimit": 2048000,
      "rowLimit": 10000
     },
     "inputWidgets": {},
     "nuid": "c8f5800d-d10a-4a3b-b2e0-377cf40b1afc",
     "showTitle": false,
     "tableResultSettingsMap": {},
     "title": ""
    }
   },
   "outputs": [
    {
     "name": "stdout",
     "output_type": "stream",
     "text": [
      "2025-02-21 22:48:28 - INFO - DataTransformer initialized.\n"
     ]
    },
    {
     "name": "stderr",
     "output_type": "stream",
     "text": [
      "INFO:__main__:DataTransformer initialized.\n"
     ]
    },
    {
     "name": "stdout",
     "output_type": "stream",
     "text": [
      "2025-02-21 22:48:29 - INFO - Computing expected power output...\n"
     ]
    },
    {
     "name": "stderr",
     "output_type": "stream",
     "text": [
      "INFO:__main__:Computing expected power output...\n"
     ]
    },
    {
     "name": "stdout",
     "output_type": "stream",
     "text": [
      "2025-02-21 22:48:30 - INFO - Expected power computation complete.\n"
     ]
    },
    {
     "name": "stderr",
     "output_type": "stream",
     "text": [
      "INFO:__main__:Expected power computation complete.\n"
     ]
    },
    {
     "name": "stdout",
     "output_type": "stream",
     "text": [
      "2025-02-21 22:48:30 - INFO - Detecting anomalies using Isolation Forest...\n"
     ]
    },
    {
     "name": "stderr",
     "output_type": "stream",
     "text": [
      "INFO:__main__:Detecting anomalies using Isolation Forest...\n"
     ]
    },
    {
     "name": "stdout",
     "output_type": "stream",
     "text": [
      "2025-02-21 22:48:41 - INFO - Anomaly detection complete.\n"
     ]
    },
    {
     "name": "stderr",
     "output_type": "stream",
     "text": [
      "INFO:__main__:Anomaly detection complete.\n"
     ]
    },
    {
     "name": "stdout",
     "output_type": "stream",
     "text": [
      "2025-02-21 22:48:41 - INFO - Detecting turbines with high anomaly rates...\n"
     ]
    },
    {
     "name": "stderr",
     "output_type": "stream",
     "text": [
      "INFO:__main__:Detecting turbines with high anomaly rates...\n"
     ]
    },
    {
     "name": "stdout",
     "output_type": "stream",
     "text": [
      "2025-02-21 22:48:42 - INFO - Turbine anomaly detection complete.\n"
     ]
    },
    {
     "name": "stderr",
     "output_type": "stream",
     "text": [
      "INFO:__main__:Turbine anomaly detection complete.\n"
     ]
    },
    {
     "name": "stdout",
     "output_type": "stream",
     "text": [
      "2025-02-21 22:48:42 - INFO - Saving results to gold_data.gold_turbine_anomalies\n"
     ]
    },
    {
     "name": "stderr",
     "output_type": "stream",
     "text": [
      "INFO:__main__:Saving results to gold_data.gold_turbine_anomalies\n"
     ]
    },
    {
     "name": "stdout",
     "output_type": "stream",
     "text": [
      "2025-02-21 22:48:48 - INFO - Successfully saved to gold_data.gold_turbine_anomalies\n"
     ]
    },
    {
     "name": "stderr",
     "output_type": "stream",
     "text": [
      "INFO:__main__:Successfully saved to gold_data.gold_turbine_anomalies\n"
     ]
    },
    {
     "name": "stdout",
     "output_type": "stream",
     "text": [
      "2025-02-21 22:48:48 - INFO - Applying smart filtering...\n"
     ]
    },
    {
     "name": "stderr",
     "output_type": "stream",
     "text": [
      "INFO:__main__:Applying smart filtering...\n"
     ]
    },
    {
     "name": "stdout",
     "output_type": "stream",
     "text": [
      "2025-02-21 22:48:49 - INFO - Smart filtering complete.\n"
     ]
    },
    {
     "name": "stderr",
     "output_type": "stream",
     "text": [
      "INFO:__main__:Smart filtering complete.\n"
     ]
    },
    {
     "name": "stdout",
     "output_type": "stream",
     "text": [
      "2025-02-21 22:48:49 - INFO - Saving results to gold_data.gold_turbine_analysis\n"
     ]
    },
    {
     "name": "stderr",
     "output_type": "stream",
     "text": [
      "INFO:__main__:Saving results to gold_data.gold_turbine_analysis\n"
     ]
    },
    {
     "name": "stdout",
     "output_type": "stream",
     "text": [
      "2025-02-21 22:49:01 - INFO - Successfully saved to gold_data.gold_turbine_analysis\n"
     ]
    },
    {
     "name": "stderr",
     "output_type": "stream",
     "text": [
      "INFO:__main__:Successfully saved to gold_data.gold_turbine_analysis\n"
     ]
    },
    {
     "name": "stdout",
     "output_type": "stream",
     "text": [
      "Data transformation completed successfully!\n"
     ]
    }
   ],
   "source": [
    "data_transformer = DataTransformer(spark)\n",
    "\n",
    "# Load silver data\n",
    "input_df = spark.table(\"silver_data.wind_turbine_silver\")\n",
    "\n",
    "# Transform pipeline:\n",
    "df = (input_df\n",
    "        .transform(data_transformer.compute_expected_power)\n",
    "        .transform(data_transformer.detect_zscore_anomalies)       # standard dev\n",
    "        .transform(data_transformer.detect_record_anomalies)       # isolation forest\n",
    "        .transform(data_transformer.combine_anomalies)             # OR logic\n",
    "        )\n",
    "\n",
    "# Detect turbine-level anomalies and save\n",
    "turbine_anomaly_df = data_transformer.detect_turbine_anomalies(df)\n",
    "data_transformer.save_turbine_analysis(turbine_anomaly_df, \"gold_turbine_stats\")\n",
    "\n",
    "# Smart filter\n",
    "df_filtered = data_transformer.apply_smart_filtering(df, turbine_anomaly_df)\n",
    "\n",
    "# Save turbine analysis to Gold\n",
    "data_transformer.save_turbine_analysis(df_filtered, \"gold_turbine_analysis\")\n",
    "\n",
    "# Summary Statistics\n",
    "df_summary = data_transformer.calculate_summary_statistics(df_filtered)\n",
    "\n",
    "# Save summary statistics to Gold\n",
    "data_transformer.save_summary_table(df_summary, \"gold_turbine_summary\")\n",
    "\n",
    "print(\"Data processing pipeline completed successfully!\")"
   ]
  }
 ],
 "metadata": {
  "application/vnd.databricks.v1+notebook": {
   "computePreferences": null,
   "dashboards": [],
   "environmentMetadata": {
    "base_environment": "",
    "client": "1"
   },
   "language": "python",
   "notebookMetadata": {
    "pythonIndentUnit": 4
   },
   "notebookName": "3_gold_transformations",
   "widgets": {}
  },
  "language_info": {
   "name": "python"
  }
 },
 "nbformat": 4,
 "nbformat_minor": 0
}
