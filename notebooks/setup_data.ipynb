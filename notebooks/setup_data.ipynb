{
 "cells": [
  {
   "cell_type": "code",
   "execution_count": 0,
   "metadata": {
    "application/vnd.databricks.v1+cell": {
     "cellMetadata": {
      "byteLimit": 2048000,
      "rowLimit": 10000
     },
     "inputWidgets": {},
     "nuid": "d10b43f2-6add-47f4-9c6c-d021cce90ac7",
     "showTitle": false,
     "tableResultSettingsMap": {},
     "title": ""
    }
   },
   "outputs": [],
   "source": [
    "import sys\n",
    "import os\n",
    "\n",
    "# Get the root directory dynamically\n",
    "project_root = os.getcwd()\n",
    "src_path = os.path.join(project_root, \"src\")\n",
    "\n",
    "# Add \"src\" to sys.path if it's not already there\n",
    "if src_path not in sys.path:\n",
    "    sys.path.insert(0, src_path)\n",
    "\n",
    "# Import module\n",
    "from src.wt_logger import LoggerUtility"
   ]
  },
  {
   "cell_type": "code",
   "execution_count": 0,
   "metadata": {
    "application/vnd.databricks.v1+cell": {
     "cellMetadata": {
      "byteLimit": 2048000,
      "rowLimit": 10000
     },
     "inputWidgets": {},
     "nuid": "cde23264-360f-4309-906b-090e60d2c1fb",
     "showTitle": false,
     "tableResultSettingsMap": {},
     "title": ""
    }
   },
   "outputs": [],
   "source": [
    "try:\n",
    "    # Get Databricks user dynamically\n",
    "    current_user = dbutils.notebook.entry_point.getDbutils().notebook().getContext().tags().get(\"user\").get()\n",
    "    user_dbfs_path = f\"dbfs:/FileStore/{current_user}/ovidiu_toma_wind_turbine_project/data/\"\n",
    "\n",
    "    # Define local and DBFS paths\n",
    "    local_data_path = f\"/Workspace/Users/{current_user}/wind_turbine_project/data/\"\n",
    "    dbfs_data_path = user_dbfs_path  # DBFS path per user\n",
    "\n",
    "    # Validate local data folder exists\n",
    "    if not os.path.exists(local_data_path):\n",
    "        print(f\"Local data folder not found: {local_data_path}\")\n",
    "        raise FileNotFoundError(f\"Local data folder not found: {local_data_path}\")\n",
    "\n",
    "    local_files = os.listdir(local_data_path)\n",
    "    if not local_files:\n",
    "        print(\"No files found in local data folder.\")\n",
    "        raise FileNotFoundError(\"No files found in local data folder.\")\n",
    "\n",
    "    print(f\"Local data folder found: {local_data_path}\")\n",
    "    print(f\"Files to be uploaded: {', '.join(local_files)}\")\n",
    "\n",
    "    # Create DBFS directory\n",
    "    dbutils.fs.mkdirs(dbfs_data_path)\n",
    "\n",
    "    # Copy files to DBFS\n",
    "    for file_name in local_files:\n",
    "        try:\n",
    "            local_file = f\"file:{os.path.join(local_data_path, file_name)}\"\n",
    "            dbfs_file = os.path.join(dbfs_data_path, file_name)\n",
    "\n",
    "            dbutils.fs.cp(local_file, dbfs_file)\n",
    "            print(f\"Successfully uploaded {file_name} to {dbfs_file}\")\n",
    "        except Exception as e:\n",
    "            print(f\"Failed to upload {file_name}: {e}\")\n",
    "\n",
    "    print(f\"Data files uploaded to {dbfs_data_path} successfully.\")\n",
    "\n",
    "except Exception as e:\n",
    "    print(f\"Unexpected error during data setup: {e}\")\n",
    "    raise\n"
   ]
  },
  {
   "cell_type": "code",
   "execution_count": 0,
   "metadata": {
    "application/vnd.databricks.v1+cell": {
     "cellMetadata": {
      "byteLimit": 2048000,
      "implicitDf": true,
      "rowLimit": 10000
     },
     "inputWidgets": {},
     "nuid": "50f9a942-15ab-4c85-99c8-fcf1406eacb8",
     "showTitle": false,
     "tableResultSettingsMap": {},
     "title": ""
    }
   },
   "outputs": [],
   "source": [
    "%sql\n",
    "SHOW TABLES IN wind_turbine_dev.bronze_data;"
   ]
  }
 ],
 "metadata": {
  "application/vnd.databricks.v1+notebook": {
   "computePreferences": null,
   "dashboards": [],
   "environmentMetadata": {
    "base_environment": "",
    "environment_version": "2"
   },
   "language": "python",
   "notebookMetadata": {
    "mostRecentlyExecutedCommandWithImplicitDF": {
     "commandId": 6736779622349318,
     "dataframes": [
      "_sqldf"
     ]
    },
    "pythonIndentUnit": 4
   },
   "notebookName": "setup_data",
   "widgets": {}
  },
  "language_info": {
   "name": "python"
  }
 },
 "nbformat": 4,
 "nbformat_minor": 0
}
