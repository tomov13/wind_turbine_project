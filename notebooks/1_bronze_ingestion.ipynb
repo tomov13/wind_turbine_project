{
 "cells": [
  {
   "cell_type": "code",
   "execution_count": 0,
   "metadata": {
    "application/vnd.databricks.v1+cell": {
     "cellMetadata": {
      "byteLimit": 2048000,
      "rowLimit": 10000
     },
     "inputWidgets": {},
     "nuid": "4951e201-1f93-4f9c-bbd1-fed4286c6cae",
     "showTitle": false,
     "tableResultSettingsMap": {},
     "title": ""
    }
   },
   "outputs": [],
   "source": [
    "import sys\n",
    "import os\n",
    "\n",
    "# Get the root directory dynamically\n",
    "project_root = os.getcwd()\n",
    "src_path = os.path.join(project_root, \"src\")\n",
    "\n",
    "# Add \"src\" to sys.path if it's not already there\n",
    "if src_path not in sys.path:\n",
    "    sys.path.insert(0, src_path)\n",
    "\n",
    "# Import module\n",
    "from src.wt_ingestion import RawDataIngestor\n",
    "\n",
    "# Get Databricks username dynamically\n",
    "current_user = dbutils.notebook.entry_point.getDbutils().notebook().getContext().tags().get(\"user\").get()\n",
    "\n",
    "# Define DBFS path for data storage\n",
    "user_dbfs_path = f\"dbfs:/FileStore/{current_user}/ovidiu_toma_wind_turbine_project/data/\"\n",
    "\n",
    "# Define data directory path dynamically\n",
    "if \"DATABRICKS_RUNTIME_VERSION\" in os.environ:\n",
    "    raw_directory_path = user_dbfs_path  # Databricks path (DBFS)\n",
    "else:\n",
    "    raw_directory_path = os.path.abspath(\"data/\")  # Local path for interviewers\n",
    "\n",
    "print(f\"Using data directory: {raw_directory_path}\")\n",
    "\n",
    "# Instantiate the ingestor\n",
    "ingestor = RawDataIngestor(spark)\n",
    "\n",
    "# Load and write data\n",
    "df_original_turbine_data = ingestor.load_original_turbine_data(raw_directory_path)\n",
    "ingestor.write_bronze(df_original_turbine_data, \"original_turbine_bronze\")\n",
    "\n",
    "df_new_turbine_data = ingestor.load_new_turbine_data(raw_directory_path)\n",
    "ingestor.write_bronze(df_new_turbine_data, \"new_turbine_bronze\")\n"
   ]
  }
 ],
 "metadata": {
  "application/vnd.databricks.v1+notebook": {
   "computePreferences": null,
   "dashboards": [],
   "environmentMetadata": {
    "base_environment": "",
    "environment_version": "1"
   },
   "language": "python",
   "notebookMetadata": {
    "mostRecentlyExecutedCommandWithImplicitDF": {
     "commandId": 3182424124548748,
     "dataframes": [
      "_sqldf"
     ]
    },
    "pythonIndentUnit": 4
   },
   "notebookName": "1_bronze_ingestion",
   "widgets": {}
  },
  "language_info": {
   "name": "python"
  }
 },
 "nbformat": 4,
 "nbformat_minor": 0
}
