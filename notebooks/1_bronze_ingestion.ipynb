{
 "cells": [
  {
   "cell_type": "code",
   "execution_count": 0,
   "metadata": {
    "application/vnd.databricks.v1+cell": {
     "cellMetadata": {
      "byteLimit": 2048000,
      "rowLimit": 10000
     },
     "inputWidgets": {},
     "nuid": "8c0659b1-2109-4fdb-9d86-4988b49917d8",
     "showTitle": false,
     "tableResultSettingsMap": {},
     "title": ""
    }
   },
   "outputs": [],
   "source": [
    "%run \"/Users/ovidiumtoma@gmail.com/wind_turbine_project/src/wt_ingestion\""
   ]
  },
  {
   "cell_type": "code",
   "execution_count": 0,
   "metadata": {
    "application/vnd.databricks.v1+cell": {
     "cellMetadata": {
      "byteLimit": 2048000,
      "rowLimit": 10000
     },
     "inputWidgets": {},
     "nuid": "d5859435-2069-4223-85cd-bdf31ab9848a",
     "showTitle": false,
     "tableResultSettingsMap": {},
     "title": ""
    }
   },
   "outputs": [
    {
     "output_type": "stream",
     "name": "stdout",
     "output_type": "stream",
     "text": [
      "2025-02-20 23:17:46 - INFO - RawDataIngestor initialized with shuffle partitions set to 4.\n2025-02-20 23:17:46 - INFO - Starting data ingestion process for directory: dbfs:/FileStore/tables/\n2025-02-20 23:17:46 - INFO - Attempting to read all CSV files from: dbfs:/FileStore/tables/\n2025-02-20 23:17:47 - INFO - Successfully read CSV files from dbfs:/FileStore/tables/. Record count: 11160\n2025-02-20 23:17:47 - INFO - Writing data to Delta table: bronze_data.wind_turbine_bronze\n2025-02-20 23:17:51 - INFO - Successfully written data to bronze_data.wind_turbine_bronze\n2025-02-20 23:17:51 - INFO - Successfully processed and stored data in bronze_data.wind_turbine_bronze\n"
     ]
    }
   ],
   "source": [
    "raw_file_directory = \"dbfs:/FileStore/tables/\"\n",
    "\n",
    "ingestor = RawDataIngestor(spark)\n",
    "ingestor.process_all_files(raw_file_directory)"
   ]
  }
 ],
 "metadata": {
  "application/vnd.databricks.v1+notebook": {
   "computePreferences": null,
   "dashboards": [],
   "environmentMetadata": {
    "base_environment": "",
    "client": "1"
   },
   "language": "python",
   "notebookMetadata": {
    "pythonIndentUnit": 4
   },
   "notebookName": "1_bronze_ingestion",
   "widgets": {}
  }
 },
 "nbformat": 4,
 "nbformat_minor": 0
}
