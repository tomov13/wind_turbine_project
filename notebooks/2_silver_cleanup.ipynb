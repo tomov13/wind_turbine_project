{
 "cells": [
  {
   "cell_type": "code",
   "execution_count": 0,
   "metadata": {
    "application/vnd.databricks.v1+cell": {
     "cellMetadata": {
      "byteLimit": 2048000,
      "rowLimit": 10000
     },
     "inputWidgets": {},
     "nuid": "9b4d2e9f-ae6d-4f8e-be00-d91e1fd23e95",
     "showTitle": false,
     "tableResultSettingsMap": {},
     "title": ""
    }
   },
   "outputs": [],
   "source": [
    "%run \"/Users/ovidiumtoma@gmail.com/wind_turbine_project/src/wt_cleaning\""
   ]
  },
  {
   "cell_type": "code",
   "execution_count": 0,
   "metadata": {
    "application/vnd.databricks.v1+cell": {
     "cellMetadata": {
      "byteLimit": 2048000,
      "rowLimit": 10000
     },
     "inputWidgets": {},
     "nuid": "38e4bd5b-9bc0-4313-820b-1b1e6a3f0e26",
     "showTitle": false,
     "tableResultSettingsMap": {},
     "title": ""
    }
   },
   "outputs": [],
   "source": [
    "# Initialize DataCleaner\n",
    "cleaner = DataCleaner(spark)\n",
    "\n",
    "# Read Bronze tables\n",
    "df_original_turbine_data = spark.read.table(\"bronze_data.original_turbine_bronze\")\n",
    "df_new_turbine_data = spark.read.table(\"bronze_data.new_turbine_bronze\")\n",
    "\n",
    "# Apply transformations on the new turbine dataset\n",
    "df_new_turbine_transformed = cleaner.transform_turbine_data(df_new_turbine_data)\n",
    "\n",
    "# Merge datasets and apply cleaning\n",
    "df_merged = cleaner.merge_bronze_data(df_original_turbine_data, df_new_turbine_transformed)\n",
    "\n",
    "# Save to Silver layer\n",
    "cleaner.save_silver_table(df_merged, \"wind_turbine_silver\")\n",
    "\n",
    "print(\"Cleaning and merging process completed.\")\n"
   ]
  }
 ],
 "metadata": {
  "application/vnd.databricks.v1+notebook": {
   "computePreferences": null,
   "dashboards": [],
   "environmentMetadata": {
    "base_environment": "",
    "client": "1"
   },
   "language": "python",
   "notebookMetadata": {
    "pythonIndentUnit": 4
   },
   "notebookName": "2_silver_cleanup",
   "widgets": {}
  },
  "language_info": {
   "name": "python"
  }
 },
 "nbformat": 4,
 "nbformat_minor": 0
}
