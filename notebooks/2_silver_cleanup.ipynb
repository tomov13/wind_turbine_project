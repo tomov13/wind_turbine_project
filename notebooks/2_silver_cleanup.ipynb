{
 "cells": [
  {
   "cell_type": "code",
   "execution_count": 0,
   "metadata": {
    "application/vnd.databricks.v1+cell": {
     "cellMetadata": {
      "byteLimit": 2048000,
      "rowLimit": 10000
     },
     "inputWidgets": {},
     "nuid": "e6757113-96e5-4758-ad54-005d7249f430",
     "showTitle": false,
     "tableResultSettingsMap": {},
     "title": ""
    }
   },
   "outputs": [],
   "source": [
    "import sys\n",
    "import os\n",
    "\n",
    "# Dynamically set up the project root & src path\n",
    "project_root = os.getcwd()\n",
    "src_path = os.path.join(project_root, \"src\")\n",
    "\n",
    "if src_path not in sys.path:\n",
    "    sys.path.insert(0, src_path)\n",
    "\n",
    "# Import the DataCleaner class\n",
    "from src.wt_cleaning import DataCleaner  # Adjust if your file is named differently\n",
    "\n",
    "# Read the Bronze tables\n",
    "df_original_turbine_data = spark.read.table(\"hive_metastore.bronze_data.original_turbine_bronze\")\n",
    "df_new_turbine_data = spark.read.table(\"hive_metastore.bronze_data.new_turbine_bronze\")\n",
    "\n",
    "# Initialize DataCleaner\n",
    "cleaner = DataCleaner(spark)\n",
    "\n",
    "# Transform the new turbine dataset (scaling power, renaming, etc.)\n",
    "df_new_turbine_transformed = cleaner.transform_turbine_data(df_new_turbine_data)\n",
    "\n",
    "# Merge with original data & clean\n",
    "df_merged = cleaner.merge_bronze_data(df_original_turbine_data, df_new_turbine_transformed)\n",
    "\n",
    "# Save the merged/cleaned data to the Silver layer\n",
    "cleaner.save_silver_table(df_merged, \"wind_turbine_silver\")\n",
    "\n",
    "print(\"Cleaning & merging process completed successfully!\")\n"
   ]
  }
 ],
 "metadata": {
  "application/vnd.databricks.v1+notebook": {
   "computePreferences": null,
   "dashboards": [],
   "environmentMetadata": {
    "base_environment": "",
    "environment_version": "1"
   },
   "language": "python",
   "notebookMetadata": {
    "pythonIndentUnit": 4
   },
   "notebookName": "2_silver_cleanup",
   "widgets": {}
  },
  "language_info": {
   "name": "python"
  }
 },
 "nbformat": 4,
 "nbformat_minor": 0
}
