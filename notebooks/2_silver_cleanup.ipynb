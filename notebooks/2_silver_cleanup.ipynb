{
 "cells": [
  {
   "cell_type": "code",
   "execution_count": 0,
   "metadata": {
    "application/vnd.databricks.v1+cell": {
     "cellMetadata": {
      "byteLimit": 2048000,
      "rowLimit": 10000
     },
     "inputWidgets": {},
     "nuid": "9b4d2e9f-ae6d-4f8e-be00-d91e1fd23e95",
     "showTitle": false,
     "tableResultSettingsMap": {},
     "title": ""
    }
   },
   "outputs": [],
   "source": [
    "%run \"/Users/ovidiumtoma@gmail.com/wind_turbine_project/src/wt_cleaning\""
   ]
  },
  {
   "cell_type": "code",
   "execution_count": 0,
   "metadata": {
    "application/vnd.databricks.v1+cell": {
     "cellMetadata": {
      "byteLimit": 2048000,
      "rowLimit": 10000
     },
     "inputWidgets": {},
     "nuid": "38e4bd5b-9bc0-4313-820b-1b1e6a3f0e26",
     "showTitle": false,
     "tableResultSettingsMap": {},
     "title": ""
    }
   },
   "outputs": [
    {
     "output_type": "stream",
     "name": "stdout",
     "output_type": "stream",
     "text": [
      "2025-02-21 23:08:33 - INFO - DataCleaner initialized.\n2025-02-21 23:08:33 - INFO - Transforming turbine data before merging.\n2025-02-21 23:08:33 - INFO - Turbine data transformation complete.\n2025-02-21 23:08:35 - INFO - Merging 11160 original turbine records with 175200 new turbine records.\n2025-02-21 23:08:36 - INFO - Total records after merging: 186360\n2025-02-21 23:08:36 - INFO - Cleaning turbine data...\n2025-02-21 23:08:38 - INFO - Cleaned dataset contains 186360 records after removing invalid data.\n2025-02-21 23:08:38 - INFO - Saving cleaned data to silver_data.wind_turbine_silver\n2025-02-21 23:08:44 - INFO - Successfully saved cleaned data to silver_data.wind_turbine_silver\nCleaning and merging process completed.\n"
     ]
    }
   ],
   "source": [
    "# Initialize DataCleaner\n",
    "cleaner = DataCleaner(spark)\n",
    "\n",
    "# Read Bronze tables\n",
    "df_original_turbine_data = spark.read.table(\"bronze_data.original_turbine_bronze\")\n",
    "df_new_turbine_data = spark.read.table(\"bronze_data.new_turbine_bronze\")\n",
    "\n",
    "# Apply transformations on the new turbine dataset\n",
    "df_new_turbine_transformed = cleaner.transform_turbine_data(df_new_turbine_data)\n",
    "\n",
    "# Merge datasets and apply cleaning\n",
    "df_merged = cleaner.merge_bronze_data(df_original_turbine_data, df_new_turbine_transformed)\n",
    "\n",
    "# Save to Silver layer\n",
    "cleaner.save_silver_table(df_merged, \"wind_turbine_silver\")\n",
    "\n",
    "print(\"Cleaning and merging process completed.\")\n"
   ]
  }
 ],
 "metadata": {
  "application/vnd.databricks.v1+notebook": {
   "computePreferences": null,
   "dashboards": [],
   "environmentMetadata": {
    "base_environment": "",
    "client": "1"
   },
   "language": "python",
   "notebookMetadata": {
    "pythonIndentUnit": 4
   },
   "notebookName": "2_silver_cleanup",
   "widgets": {}
  }
 },
 "nbformat": 4,
 "nbformat_minor": 0
}
