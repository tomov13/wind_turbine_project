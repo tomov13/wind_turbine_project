{
 "cells": [
  {
   "cell_type": "code",
   "execution_count": 0,
   "metadata": {
    "application/vnd.databricks.v1+cell": {
     "cellMetadata": {
      "byteLimit": 2048000,
      "rowLimit": 10000
     },
     "inputWidgets": {},
     "nuid": "9b4d2e9f-ae6d-4f8e-be00-d91e1fd23e95",
     "showTitle": false,
     "tableResultSettingsMap": {},
     "title": ""
    }
   },
   "outputs": [],
   "source": [
    "%run \"/Users/ovidiumtoma@gmail.com/wind_turbine_project/src/wt_cleaning\""
   ]
  },
  {
   "cell_type": "code",
   "execution_count": 0,
   "metadata": {
    "application/vnd.databricks.v1+cell": {
     "cellMetadata": {
      "byteLimit": 2048000,
      "rowLimit": 10000
     },
     "inputWidgets": {},
     "nuid": "d39b5329-45b5-44f8-a92d-36fb958eddb7",
     "showTitle": false,
     "tableResultSettingsMap": {},
     "title": ""
    }
   },
   "outputs": [
    {
     "output_type": "stream",
     "name": "stdout",
     "output_type": "stream",
     "text": [
      "2025-02-21 01:13:27 - INFO - DataCleaner initialized.\n2025-02-21 01:13:27 - INFO - Starting full cleaning process...\n2025-02-21 01:13:29 - INFO - Rows before starting cleanup process: 11160\n2025-02-21 01:13:29 - INFO - Removing missing values...\n2025-02-21 01:13:30 - INFO - Rows after removing missing values: 11160\n2025-02-21 01:13:30 - INFO - Handling outliers...\n2025-02-21 01:13:31 - INFO - Rows after outlier removal: 11160\n2025-02-21 01:13:31 - INFO - Saving cleaned data to silver_data.wind_turbine_silver...\n2025-02-21 01:13:35 - INFO - Successfully saved cleaned data to silver_data.wind_turbine_silver\n2025-02-21 01:13:35 - INFO - Cleaning process complete.\n"
     ]
    }
   ],
   "source": [
    "bronze_table_name = \"wind_turbine_bronze\"\n",
    "df_bronze = spark.read.table(f\"bronze_data.{bronze_table_name}\")\n",
    "\n",
    "cleaner = DataCleaner(spark)\n",
    "df_cleaned = cleaner.clean_data(df_bronze, \"wind_turbine_silver\")"
   ]
  }
 ],
 "metadata": {
  "application/vnd.databricks.v1+notebook": {
   "computePreferences": null,
   "dashboards": [],
   "environmentMetadata": {
    "base_environment": "",
    "client": "1"
   },
   "language": "python",
   "notebookMetadata": {
    "pythonIndentUnit": 4
   },
   "notebookName": "2_silver_cleanup",
   "widgets": {}
  }
 },
 "nbformat": 4,
 "nbformat_minor": 0
}
